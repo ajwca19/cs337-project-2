{
 "cells": [
  {
   "cell_type": "code",
   "execution_count": 2,
   "id": "2b7d60d5-5f05-42db-b059-fb5546a78dce",
   "metadata": {},
   "outputs": [],
   "source": [
    "import requests\n",
    "from bs4 import BeautifulSoup\n",
    "import re\n",
    "from collections import Counter\n",
    "import spacy\n",
    "import unicodedata\n",
    "nlp = spacy.load(\"en_core_web_sm\")"
   ]
  },
  {
   "cell_type": "code",
   "execution_count": 3,
   "id": "6c822a5d-1a3a-48bb-ad1c-234f36f94b01",
   "metadata": {},
   "outputs": [],
   "source": [
    "# Setting up notebook to display multiple outputs in one cell\n",
    "from IPython.core.interactiveshell import InteractiveShell\n",
    "InteractiveShell.ast_node_interactivity = \"all\""
   ]
  },
  {
   "cell_type": "code",
   "execution_count": null,
   "id": "e4761157-3331-4b53-858f-30806094ae9c",
   "metadata": {},
   "outputs": [],
   "source": [
    "def __main__():\n",
    "    #define list of steps\n",
    "    #define ingredients list\n",
    "    units_list = [\"ounce\", \"pinch\", \"dash\", \"cup\", \"gallon\", \"pint\", \"milliliter\", \"gram\", \"pound\", \"fluid ounce\", \"\"]"
   ]
  }
 ],
 "metadata": {
  "kernelspec": {
   "display_name": "Python 3 (ipykernel)",
   "language": "python",
   "name": "python3"
  },
  "language_info": {
   "codemirror_mode": {
    "name": "ipython",
    "version": 3
   },
   "file_extension": ".py",
   "mimetype": "text/x-python",
   "name": "python",
   "nbconvert_exporter": "python",
   "pygments_lexer": "ipython3",
   "version": "3.9.7"
  }
 },
 "nbformat": 4,
 "nbformat_minor": 5
}
