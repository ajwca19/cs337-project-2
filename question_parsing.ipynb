{
 "cells": [
  {
   "cell_type": "code",
   "execution_count": 2,
   "id": "2b7d60d5-5f05-42db-b059-fb5546a78dce",
   "metadata": {},
   "outputs": [],
   "source": [
    "import requests\n",
    "from bs4 import BeautifulSoup\n",
    "import re\n",
    "from collections import Counter\n",
    "import spacy\n",
    "import unicodedata\n",
    "nlp = spacy.load(\"en_core_web_sm\")"
   ]
  },
  {
   "cell_type": "code",
   "execution_count": 3,
   "id": "6c822a5d-1a3a-48bb-ad1c-234f36f94b01",
   "metadata": {},
   "outputs": [],
   "source": [
    "# Setting up notebook to display multiple outputs in one cell\n",
    "from IPython.core.interactiveshell import InteractiveShell\n",
    "InteractiveShell.ast_node_interactivity = \"all\""
   ]
  },
  {
   "cell_type": "code",
   "execution_count": 6,
   "id": "e4761157-3331-4b53-858f-30806094ae9c",
   "metadata": {},
   "outputs": [],
   "source": [
    "def __main__():\n",
    "    units_list = [\"ounce\", \"pinch\", \"dash\", \"cup\", \"gallon\", \"pint\", \"milliliter\", \"liter\", \"gram\", \"pound\", \"fluid ounce\", \"kilogram\",\n",
    "                 \"spoon\", \"quart\", \"container\", \"can\", \"box\", \"package\", \"packet\"]\n",
    "    unit_conversion = {\"oz\": \"ounce\", \"c\": \"cup\", \"pt\": \"pint\", \"gal\": \"gallon\", \"ml\": \"milliliter\", \"mL\": \"milliliter\",\n",
    "                      \"g\": \"gram\", \"lb\": \"pound\", \"kg\": \"kilogram\", \"kilo\": \"kilogram\", \"qt\": \"quart\", \"l\": \"liter\", \"L\": \"liter\"}\n",
    "    equipment_list = [\"pot\", \"pan\", \"sheet pan\", \"tray\",\n",
    "                      \"dish\", \"pressure cooker\", \"blender\", \"toaster\",\n",
    "                      \"microwave\", \"stove\", \"oven\", \"range\", \"burner\",\n",
    "                      \"cooktop\", \"measuring cup\", \"cup\", \"bowl\", \"mixing bowl\", \n",
    "                      \"spoon\", \"fork\", \"knife\", \"ladle\", \"spatula\", \"tongs\", \"paddle\", \"strainer\", \"mixer\", \"whisk\",\n",
    "                      \"toothpick\", \"foil\", \"parchment\", \"paper\", \"plastic wrap\", \"paper towel\"]\n",
    "    print(\"Let's cook a meal!\")\n",
    "    recipe_url = input(\"Paste a recipe URL here to follow!\")\n",
    "    step_ptr = 0\n",
    "    #get list of ingredients\n",
    "    #get list of steps\n",
    "    steps = []\n",
    "    while True:\n",
    "        question = input()\n",
    "        if re.search(\"[Ll]ast|[Pp]revious|[Bb]ack|[Bb]efore\", question):\n",
    "            step_ptr-=1\n",
    "            print(steps[step_ptr])\n",
    "        elif re.search(\"[Rr]epeat|[Aa]gain|[Oo]n(c)?e more\", question):\n",
    "            print(steps[step_ptr])\n",
    "        elif re.search(\"[Nn]ext|[Aa]fter\", question):\n",
    "            step_ptr+=1\n",
    "            print(steps[step_ptr])\n",
    "        elif re.search(\"[Hh]ow\", question):\n",
    "            if re.search(\"[Hh]ow long\", question):\n",
    "                #talking about time\n",
    "                print()\n",
    "            if re.search(\"[Hh]ow (hot|cold|warm|high|low)\", question):\n",
    "                #talking about temperature\n",
    "                print()\n",
    "        elif contains_ingredient(question):\n",
    "            print()\n",
    "        elif \"quit\" in question or step_ptr:\n",
    "            break"
   ]
  },
  {
   "cell_type": "code",
   "execution_count": 19,
   "id": "375fce68-26d1-410e-8f33-b415f890d171",
   "metadata": {},
   "outputs": [],
   "source": []
  },
  {
   "cell_type": "code",
   "execution_count": null,
   "id": "aa161643-26b1-4215-94aa-3a54dc8b31aa",
   "metadata": {},
   "outputs": [],
   "source": []
  }
 ],
 "metadata": {
  "kernelspec": {
   "display_name": "Python 3 (ipykernel)",
   "language": "python",
   "name": "python3"
  },
  "language_info": {
   "codemirror_mode": {
    "name": "ipython",
    "version": 3
   },
   "file_extension": ".py",
   "mimetype": "text/x-python",
   "name": "python",
   "nbconvert_exporter": "python",
   "pygments_lexer": "ipython3",
   "version": "3.9.7"
  }
 },
 "nbformat": 4,
 "nbformat_minor": 5
}
