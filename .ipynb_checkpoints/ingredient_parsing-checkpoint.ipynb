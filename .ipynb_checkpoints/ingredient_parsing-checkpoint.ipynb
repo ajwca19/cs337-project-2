{
 "cells": [
  {
   "cell_type": "code",
   "execution_count": 1,
   "id": "c6b45fc8-780f-4fb3-952c-d5858ae9fd1d",
   "metadata": {},
   "outputs": [],
   "source": [
    "import requests\n",
    "from bs4 import BeautifulSoup\n",
    "import re\n",
    "from collections import Counter\n",
    "import spacy\n",
    "nlp = spacy.load(\"en_core_web_sm\")"
   ]
  },
  {
   "cell_type": "code",
   "execution_count": 2,
   "id": "39e161c4-7b4d-410a-bfd6-181509d364b8",
   "metadata": {},
   "outputs": [],
   "source": [
    "# Setting up notebook to display multiple outputs in one cell\n",
    "from IPython.core.interactiveshell import InteractiveShell\n",
    "InteractiveShell.ast_node_interactivity = \"all\""
   ]
  },
  {
   "cell_type": "code",
   "execution_count": 16,
   "id": "fab30f01-bf63-4dda-962c-2a69c1f36c60",
   "metadata": {},
   "outputs": [],
   "source": [
    "#define ingredient class for use with other procedures\n",
    "class Ingredient:\n",
    "    #parses raw text: THE CORE IMPORTANT THING HERE!    \n",
    "    def parse_ingredient(self, text):\n",
    "        parse = nlp(text)\n",
    "        #(fix me!)\n",
    "        amount = \"\"\n",
    "        qualifier = \"\"\n",
    "        name = \"\"\n",
    "        prep = \"\" \n",
    "        return (amount, qualifier, name, prep)\n",
    "    \n",
    "    def get_amount(self):\n",
    "        return self.amount\n",
    "    \n",
    "    def get_qualifier(self):\n",
    "        return self.qualifier\n",
    "    \n",
    "    def get_name(self):\n",
    "        return self.name\n",
    "    \n",
    "    def get_prep(self):\n",
    "        return self.prep\n",
    "    \n",
    "    def get_text(self):\n",
    "        return self.text\n",
    "    \n",
    "    def __init__(self, text):\n",
    "        self.text = text\n",
    "        self.amount, self.qualifier, self.name, self.prep = self.parse_ingredient(text)\n",
    "        \n",
    "    "
   ]
  },
  {
   "cell_type": "code",
   "execution_count": 17,
   "id": "45f1e3f2-41f9-4f9b-9173-8305eaa0f5fc",
   "metadata": {},
   "outputs": [],
   "source": [
    "#take in raw text\n",
    "def parse_ingredient_list(ingredients):\n",
    "    return list(map(lambda t: Ingredient(t), ingredients))"
   ]
  },
  {
   "cell_type": "code",
   "execution_count": 20,
   "id": "ad73c7d3-b8f6-4241-94c0-a97805dce786",
   "metadata": {},
   "outputs": [
    {
     "data": {
      "text/plain": [
       "<map at 0x7f83cf861b80>"
      ]
     },
     "execution_count": 20,
     "metadata": {},
     "output_type": "execute_result"
    }
   ],
   "source": [
    "list(map(lambda i: i.get_text(),\n",
    "    parse_ingredient_list(['1 cup uncooked long grain white rice', \n",
    "                           '2 cups water', '1 onion, diced', '1 tablespoon olive oil', \n",
    "                           '2 cups marinara sauce', '1 cup beef broth', '1 tablespoon balsamic vinegar', \n",
    "                           '¼ teaspoon crushed red pepper flakes', '1 pound lean ground beef', \n",
    "                           '¼ pound hot Italian pork sausage, casing removed', '1 (10 ounce) can diced tomatoes', \n",
    "                           '¼ cup chopped fresh Italian parsley', '4 cloves garlic, minced', '2 teaspoons salt', \n",
    "                           '1 teaspoon freshly ground black pepper', '1 pinch ground cayenne pepper', \n",
    "                           '1 cup finely grated Parmigiano-Reggiano cheese, plus more for topping', \n",
    "                           '4 large green bell peppers, halved lengthwise and seeded'])))"
   ]
  },
  {
   "cell_type": "code",
   "execution_count": null,
   "id": "7a21b447-5e26-411c-a225-96a5775df302",
   "metadata": {},
   "outputs": [],
   "source": []
  }
 ],
 "metadata": {
  "kernelspec": {
   "display_name": "Python 3 (ipykernel)",
   "language": "python",
   "name": "python3"
  },
  "language_info": {
   "codemirror_mode": {
    "name": "ipython",
    "version": 3
   },
   "file_extension": ".py",
   "mimetype": "text/x-python",
   "name": "python",
   "nbconvert_exporter": "python",
   "pygments_lexer": "ipython3",
   "version": "3.9.7"
  }
 },
 "nbformat": 4,
 "nbformat_minor": 5
}
