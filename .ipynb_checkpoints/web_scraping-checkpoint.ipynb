{
 "cells": [
  {
   "cell_type": "code",
   "execution_count": 1,
   "id": "794920b6-1a3f-49a1-b2d4-fff068bb5a15",
   "metadata": {},
   "outputs": [],
   "source": [
    "# Importing necessary modules\n",
    "import requests\n",
    "from bs4 import BeautifulSoup\n",
    "import re\n",
    "from collections import Counter\n",
    "import unicodedata"
   ]
  },
  {
   "cell_type": "code",
   "execution_count": 2,
   "id": "d8693e6a-8844-447c-b10f-7dc4bf93c2f9",
   "metadata": {},
   "outputs": [],
   "source": [
    "# Setting up notebook to display multiple outputs in one cell\n",
    "from IPython.core.interactiveshell import InteractiveShell\n",
    "InteractiveShell.ast_node_interactivity = \"all\""
   ]
  },
  {
   "cell_type": "code",
   "execution_count": 3,
   "id": "8b300109-219a-4572-97d8-c1db75a52a16",
   "metadata": {},
   "outputs": [],
   "source": [
    "# Defining a function to extract the HTML class and tag key words to search for ingredients\n",
    "def ingredient_class_tag(recipe_html):\n",
    "    # HTML class\n",
    "    ingredients_class = re.findall('class=\".*[Ii]ngredients[^ ]*\"', str(recipe_html))\n",
    "    ingredients_class_dict = dict(Counter(ingredients_class))\n",
    "    most_common_ingredients_class = \"\"\n",
    "    max_value = 0\n",
    "    for key, value in ingredients_class_dict.items():\n",
    "        if value > max_value:\n",
    "            most_common_ingredients_class = key\n",
    "            max_value = value\n",
    "        elif value == max_value:\n",
    "            if \"label\" in key.lower():\n",
    "                most_common_ingredients_class = key\n",
    "    most_common_ingredients_class = re.sub('class=|\"', '', most_common_ingredients_class)\n",
    "    # HTML tag\n",
    "    tag_list = re.findall(rf'<.*{most_common_ingredients_class}.*>', str(recipe_html))\n",
    "    clean_tag_list = []\n",
    "    for t in tag_list:\n",
    "        tag = re.search('<.* class', t)\n",
    "        if tag:\n",
    "            tag = re.sub('<| class', '', tag[0])\n",
    "            clean_tag_list.append(tag)\n",
    "    ingredients_tag_dict = dict(Counter(clean_tag_list))\n",
    "    most_common_ingredients_tag = \"\"\n",
    "    max_value = 0\n",
    "    for key, value in ingredients_tag_dict.items():\n",
    "        if value > max_value:\n",
    "            most_common_ingredients_tag = key\n",
    "            max_value = value\n",
    "    return (most_common_ingredients_class, most_common_ingredients_tag)"
   ]
  },
  {
   "cell_type": "code",
   "execution_count": 4,
   "id": "50d96ac4-8b64-4ac3-9d62-9998e300faed",
   "metadata": {},
   "outputs": [],
   "source": [
    "# Defining a function to extract the HTML class and tag key words to search for directions\n",
    "def direction_class_tag(recipe_html):\n",
    "    # HTML class\n",
    "    directions_class = re.findall('class=\".*[Mm]ethod[^ ]*\"|class=\".*comp mntl-sc-block mntl-sc-block-html[^ ]*\"', str(recipe_html))\n",
    "    directions_class_dict = dict(Counter(directions_class))\n",
    "    most_common_directions_class = \"\"\n",
    "    max_value = 0\n",
    "    for key, value in directions_class_dict.items():\n",
    "        if value > max_value:\n",
    "            most_common_directions_class = key\n",
    "            max_value = value\n",
    "    most_common_directions_class = re.sub('class=|\"', '', most_common_directions_class)    \n",
    "    # HTML tag\n",
    "    tag_list = re.findall(rf'<.*{most_common_directions_class}.*>', str(recipe_html))\n",
    "    clean_tag_list = []\n",
    "    for t in tag_list:\n",
    "        tag = re.search('<.* class', t)\n",
    "        if tag:\n",
    "            tag = re.sub('<| class', '', tag[0])\n",
    "            clean_tag_list.append(tag)\n",
    "    directions_tag_dict = dict(Counter(clean_tag_list))\n",
    "    most_common_directions_tag = \"\"\n",
    "    max_value = 0\n",
    "    for key, value in directions_tag_dict.items():\n",
    "        if value > max_value:\n",
    "            most_common_directions_tag = key\n",
    "            max_value = value\n",
    "    return (most_common_directions_class, most_common_directions_tag)"
   ]
  },
  {
   "cell_type": "code",
   "execution_count": 5,
   "id": "d5ff2904-c693-4ccc-acdd-1ad088cb0d44",
   "metadata": {},
   "outputs": [],
   "source": [
    "# Defining a function to extract the ingredients and directions from an online recipe\n",
    "def recipe_extract(URL):\n",
    "    # Getting HTML of selected recipe\n",
    "    webpage = requests.get(URL)\n",
    "    recipe_html = BeautifulSoup(webpage.content, \"html.parser\")\n",
    "    # Extracting the HTML class and tag key words to search for ingredients\n",
    "    most_common_ingredients_class, most_common_ingredients_tag = ingredient_class_tag(recipe_html)\n",
    "    # Extracting the ingredients and storing in list                \n",
    "    ingredients_text = recipe_html.find_all(most_common_ingredients_tag, class_ = most_common_ingredients_class)\n",
    "    ingredients_list = []\n",
    "    for ingredient in ingredients_text:\n",
    "        ingredient = str(ingredient)\n",
    "        ingredient = re.sub('</', \"\", ingredient)\n",
    "        ingredient = re.sub(rf'<{most_common_ingredients_tag}|{most_common_ingredients_tag}>', \"\", ingredient)\n",
    "        ingredient = re.sub('<', \"\", ingredient)\n",
    "        ingredient = re.sub(rf'{most_common_ingredients_class}', \"\", ingredient)\n",
    "        ingredient = re.sub(' class=', \"\", ingredient)\n",
    "        ingredient = re.sub('\"', \"\", ingredient)\n",
    "        ingredient = re.sub('Deselect All', \"\", ingredient)\n",
    "        ingredient = re.sub('data.*?>', \"\", ingredient)\n",
    "        ingredient = re.sub('span>|span', \"\", ingredient)\n",
    "        ingredient = re.sub('p>', \"\", ingredient)\n",
    "        ingredient = re.sub('>', \"\", ingredient)\n",
    "        ingredient = re.sub('\\xa0', \" \", ingredient)\n",
    "        ingredient = re.sub('\\u202f', \" \", ingredient)\n",
    "        ingredient = re.sub(\"⁄\", \"/\", unicodedata.normalize(\"NFKC\", ingredient))\n",
    "        ingredient = re.sub(' +', \" \", ingredient)\n",
    "        ingredient = re.sub('\\n', \"\", ingredient)\n",
    "        ingredient = ingredient.strip()\n",
    "        if ingredient:\n",
    "            ingredients_list.append(ingredient)\n",
    "    # Extracting the HTML class and tag key words to search for directions\n",
    "    most_common_directions_class, most_common_directions_tag = direction_class_tag(recipe_html)\n",
    "    # Extracting directions and storing in list\n",
    "    if \"allrecipes\" in URL:\n",
    "        recipe_html = recipe_html.find(\"div\", class_ = \"comp recipe__steps-content mntl-sc-page mntl-block\")\n",
    "    directions_text = recipe_html.find_all(most_common_directions_tag, class_ = most_common_directions_class)\n",
    "    directions_list = []\n",
    "    for direction in directions_text:\n",
    "        direction = str(direction)\n",
    "        direction = re.sub('</', \"\", direction)\n",
    "        direction = re.sub(rf'<{most_common_directions_tag}|{most_common_directions_tag}>', \"\", direction)\n",
    "        direction = re.sub('<', \"\", direction)\n",
    "        direction = re.sub(rf'{most_common_directions_class}', \"\", direction)\n",
    "        direction = re.sub(' class=', \"\", direction)\n",
    "        direction = re.sub('\"', \"\", direction)\n",
    "        direction = re.sub('id=.*>', \"\", direction)\n",
    "        direction = re.sub('p>', \"\", direction)\n",
    "        direction = re.sub('>', \"\", direction)\n",
    "        direction = re.sub('\\xa0', \" \", direction)\n",
    "        direction = re.sub('\\u202f', \" \", direction)\n",
    "        direction = re.sub(\"⁄\", \"/\", unicodedata.normalize(\"NFKC\", direction))\n",
    "        direction = re.sub(' +', \" \", direction)\n",
    "        direction = re.sub('\\n', \"\", direction)\n",
    "        if \"https\" not in direction:\n",
    "            direction = direction.strip().split(\".\")\n",
    "            if len(direction) > 1:\n",
    "                for d in direction:\n",
    "                    directions_list.append(d.strip())\n",
    "    while(\"\" in directions_list):\n",
    "        directions_list.remove(\"\")        \n",
    "    return (ingredients_list, directions_list)"
   ]
  },
  {
   "cell_type": "code",
   "execution_count": 6,
   "id": "d8bf82c2-bc74-4d5d-85b0-11ae49b34b2e",
   "metadata": {},
   "outputs": [
    {
     "name": "stdout",
     "output_type": "stream",
     "text": [
      "['2 medium carrots, cut into chunks', '2 stalks celery, cut into chunks', '1 large shallot, cut into chunks', '1 1/2 tablespoons olive oil', '1/2 pound lean ground beef', '2 tablespoons plus 4 teaspoons tomato paste', '1/3 cup chopped fresh parsley, dill or a combination', '1/3 cup golden raisins', '2 tablespoons red wine vinegar', 'Kosher salt', '4 red, yellow, orange or green bell peppers or a mix of colors, halved lengthwise and seeded', '1/2 cup whole wheat couscous', '3/4 cup grated asiago cheese']\n",
      "['Preheat the oven to 450 degrees F', 'Pulse the carrots, celery and shallots in a food processor until coarsely chopped', 'Heat 1 tablespoon of the olive oil in a large nonstick skillet over medium high', 'Add the chopped vegetables and cook, stirring frequently, until light golden and soft, 8 to 10 minutes', '(Add a splash of water if the mixture begins to stick', ') Add the ground beef and 4 teaspoons of the tomato paste and cook, breaking the mixture up with a wooden spoon, until browned, about 4 minutes', 'Add 1/2 cup water, the parsley, raisins, 1 tablespoon of the vinegar and 3/4 teaspoon salt', 'Bring to a simmer and cook until most of the water is absorbed and the mixture gets saucy, about 1 minute', 'Let cool slightly', 'Meanwhile, toss the pepper halves with the remaining 1/2 tablespoon oil in a microwave-safe bowl', 'Cover with plastic wrap and microwave until the peppers are pliable, 10 to 12 minutes', 'Carefully uncover the bowl and pour out any liquid that has accumulated', 'Stir the couscous into the beef mixture', 'Whisk together the remaining 2 tablespoons tomato paste, 1 tablespoon vinegar and 3/4 cup water in the bottom of a large baking dish', 'Carefully transfer the peppers to the baking dish cut-side up and fill each pepper with the couscous mixture', 'Sprinkle with the cheese', 'Cover with foil and bake until the peppers are tender and the stuffing is hot, 20 to 25 minutes', 'Serve warm or at room temperature drizzled with the tomato cooking liquid']\n"
     ]
    }
   ],
   "source": [
    "ingredients, directions = recipe_extract(\"https://www.foodnetwork.com/recipes/food-network-kitchen/sweet-and-sour-couscous-stuffed-peppers-recipe-2121036\")\n",
    "print(ingredients)\n",
    "print(directions)"
   ]
  },
  {
   "cell_type": "code",
   "execution_count": 7,
   "id": "03d45f4d-592c-4fe7-80ec-dff08f517c63",
   "metadata": {},
   "outputs": [
    {
     "name": "stdout",
     "output_type": "stream",
     "text": [
      "['1 tablespoon good olive oil', '3 cups chopped yellow onions (3 onions)', '1 teaspoon chopped fresh thyme leaves', '2 teaspoons kosher salt', '1 teaspoon freshly ground black pepper', '3 tablespoons Worcestershire sauce', '1/3 cup canned chicken stock or broth', '1 tablespoon tomato paste', '2 1/2 pounds ground chuck (81 percent lean)', '1/2 cup plain dry bread crumbs (recommended: Progresso)', '2 extra-large eggs, beaten', '1/2 cup ketchup (recommended: Heinz)']\n",
      "['Preheat the oven to 325 degrees F', 'Heat the olive oil in a medium saute pan', 'Add the onions, thyme, salt, and pepper and cook over medium-low heat, stirring occasionally, for 8 to 10 minutes, until the onions are translucent but not brown', 'Off the heat, add the Worcestershire sauce, chicken stock, and tomato paste', 'Allow to cool slightly', 'In a large bowl, combine the ground chuck, onion mixture, bread crumbs, and eggs, and mix lightly with a fork', \"Don't mash or the meat loaf will be dense\", 'Shape the mixture into a rectangular loaf on a sheet pan covered with parchment paper', 'Spread the ketchup evenly on top', 'Bake for 1 to 1 1/4 hours, until the internal temperature is 160 degrees F and the meat loaf is cooked through', '(A pan of hot water in the oven, under the meat loaf, will keep the top from cracking', ') Serve hot']\n"
     ]
    }
   ],
   "source": [
    "ingredients, directions = recipe_extract(\"https://www.foodnetwork.com/recipes/ina-garten/meat-loaf-recipe-1921718\")\n",
    "print(ingredients)\n",
    "print(directions)"
   ]
  },
  {
   "cell_type": "code",
   "execution_count": 8,
   "id": "293ca03e-ac43-4718-89ab-5595817948d0",
   "metadata": {},
   "outputs": [
    {
     "name": "stdout",
     "output_type": "stream",
     "text": [
      "['12 large eggs', 'Kosher salt and freshly ground black pepper', '1/4 cup unsalted butter', '1/2 green bell pepper, cut into 1/2-inch dice', '1/2 red bell pepper, cut into 1/2-inch dice', '6 ounces boiled ham (in one piece), cut into 1/2-inch dice', '4 scallions (white and green), roughly chopped', '1/2 cup grated white cheese (about 2 ounces), such as Monterey Jack, cheddar, or Gouda (optional)']\n",
      "['In a small bowl, beat together 3 of the eggs and season lightly with salt and pepper', 'Set aside', 'Heat 3 tablespoons of the butter in a small non-stick skillet, with tight-fitting lid, over medium heat', 'Add the peppers and cook, covered, without stirring, until tender, about 3 minutes', 'Uncover and raise the heat to medium-high', 'Add the ham and scallions and cook, stirring frequently, until hot, about 1 minute', 'Transfer the mixture to a bowl', 'Melt a nut-sized piece of the remaining butter in the skillet over medium heat', 'When the foam subsides, add 1/4 of the pepper mixture', 'Pour in the beaten eggs and cook, stirring constantly with a heat-resistant rubber spatula, until just cooked, about 30 seconds', 'Turn off the heat and, using the rubber spatula, smooth over the top of the omelette so that it evenly covers the inside of the skillet', 'If using the cheese, sprinkle about 2 tablespoons over the omelette', 'Let rest for 30 seconds until the omelette has set', 'Using the rubber spatula, fold the omelette in half, and transfer to a warmed plate', 'Cover with foil to keep warm', 'Repeat with the remaining ingredients to make 4 omelettes in all']\n"
     ]
    }
   ],
   "source": [
    "ingredients, directions = recipe_extract(\"https://www.foodnetwork.com/recipes/food-network-kitchen/western-omelette-recipe-2011477\")\n",
    "print(ingredients)\n",
    "print(directions)"
   ]
  },
  {
   "cell_type": "code",
   "execution_count": 9,
   "id": "8989078d-7c8c-4f71-a3ef-921ef06e6301",
   "metadata": {},
   "outputs": [
    {
     "name": "stdout",
     "output_type": "stream",
     "text": [
      "['Nonstick baking spray', '1 1/4 cup Dutch-process cocoa, plus more for dusting', \"2 1/4 cups all-purpose flour (see Cook's Note)\", '2 1/4 teaspoons baking soda', '1 teaspoon baking powder', '1 large egg, at room temperature', '2 large egg yolks, at room temperature', '2 1/4 cups light brown sugar', '1 1/4 cup sour cream, at room temperature', '2/3 cup vegetable oil', '1 tablespoon pure vanilla extract', '1 1/4 teaspoon kosher salt', '12 ounces semisweet chocolate chips or semisweet chocolate (64-percent cacao), chopped', '4 sticks (1 pound) unsalted butter, at room temperature', '3/4 teaspoon kosher salt', \"2 cups confectioners' sugar\", '4 teaspoons Dutch-process cocoa powder', '1 tablespoon pure vanilla paste or extract']\n",
      "['For the cake: Arrange a rack in the center of oven and preheat to 350 degrees F', 'Lightly coat two 9-inch round cake pans with nonstick cooking spray', 'Line the bottoms with parchment paper rounds and lightly coat the paper with nonstick spray', 'Dust the bottom and sides of each pan with Dutch-process cocoa powder, tapping out excess', 'Sift the cocoa powder, flour, baking soda and baking powder into the bowl of a stand mixer', 'Beat on low speed to combine', 'Add the eggs, egg yolks, brown sugar, sour cream, oil, vanilla, salt and 1 cup of hot water', 'Beat on medium speed until completely smooth, about 3 minutes', 'Scrape the batter evenly into the prepared pans', 'Smooth the tops', 'Bake, rotating the pans halfway through, until a tester inserted into the centers comes out clean, 35 to 45 minutes', 'Transfer the pans to a wire rack and let the cakes cool for 30 minutes', 'Run a knife around the sides of the cakes and invert onto the wire rack', 'Remove the parchment and let the cakes cool completely', 'Trim the domes of the cake rounds with a large serrated knife so the tops are flat', 'For the frosting: Melt the chocolate in a medium heatproof bowl set over simmering water in a medium saucepan', 'Remove from the simmering water and let it cool to room temperature, about 30 minutes', 'Beat the butter and salt in a large bowl with an electric mixer on high speed until light and fluffy, about 2 minutes', 'Reduce the speed to low, drizzle in the chocolate and beat until completely blended', \"Gradually beat in the confectioners' sugar, cocoa powder and vanilla\", 'Increase the speed to high and beat until light and fluffy, about 2 minutes', 'To assemble the cake: Place one cake, cut-side down, on a platter', 'Spread 1 1/2 cups of the frosting evenly over the top', 'Place the remaining cake, cut-side down, on top', 'Spread the top with 1 1/2 cups of the frosting', 'Frost the sides of the cake with 3/4 cup of the frosting and smooth out completely to make an even crumb coat', \"(It's ok if some of the cake shows through\", 'This is just a base layer', ') Refrigerate for 30 minutes to let the frosting set', 'Spread the remaining frosting over the top and sides, swirling decoratively']\n"
     ]
    }
   ],
   "source": [
    "ingredients, directions = recipe_extract(\"https://www.foodnetwork.com/recipes/food-network-kitchen/the-best-chocolate-cake-7193220\")\n",
    "print(ingredients)\n",
    "print(directions)"
   ]
  },
  {
   "cell_type": "code",
   "execution_count": 10,
   "id": "167506a9-bce8-45b8-8076-c501d135071e",
   "metadata": {},
   "outputs": [
    {
     "name": "stdout",
     "output_type": "stream",
     "text": [
      "['2 cups all-purpose flour', '1/2 teaspoon cayenne', '1/2 teaspoon fine salt', 'Vegetable oil, for frying', '2 pounds chicken wings, split at the joint, wingtips removed and discarded', '1/2 cup unsalted butter, melted', '1/4 cup hot sauce, or to taste', '2 tablespoons fresh lemon juice', '1 cup mayonnaise', '1/2 cup half-and-half', '2 tablespoons sour cream', '1 tablespoon fresh lemon juice', '1/4 teaspoon Worcestershire sauce', '1/2 cup crumbled blue cheese, such as Maytag (about 3 ounces)', 'Kosher salt and freshly ground black pepper', 'Celery sticks, for serving', 'Carrot sticks, for serving']\n",
      "['For the wings: Preheat the oven to 400 degrees F', 'Line 1 large or 2 small rimmed baking sheets with foil', 'Whisk together the flour, cayenne and salt in a large bowl', 'Heat 2 inches of oil in a large, heavy-bottomed pot over medium heat until a deep-fry thermometer registers 375 degrees F', 'Working in 3 batches, dredge the wings in the flour mixture and fry until lightly browned, 10 to 12 minutes per batch', 'Transfer the wings with a slotted spoon to a paper-towel-lined plate', '(Make sure the oil returns to the proper temperature before frying each batch', ')', 'Combine the butter, hot sauce and lemon juice in a large bowl', 'Toss the fried wings in the hot sauce mixture; transfer the wings and sauce to the prepared baking sheet(s)', 'Bake, flipping the wings occasionally, until they are crispy and have absorbed most of the sauce, about 35 minutes', 'For the blue cheese dressing: Whisk together the mayonnaise, half-and-half, sour cream, lemon juice, salt, Worcestershire and 1/4 cup of the blue cheese in a medium bowl until smooth', 'Gently stir in the remaining 1/4 cup blue cheese and season with pepper to taste', 'Use immediately, or refrigerate for up to 3 days', '(Makes about 2 1/2 cups dressing', ')', 'Transfer the wings to a serving platter and serve with the blue cheese dressing and celery and carrot sticks']\n"
     ]
    }
   ],
   "source": [
    "ingredients, directions = recipe_extract(\"https://www.foodnetwork.com/recipes/food-network-kitchen/buffalo-style-chicken-wings-recipe-1928161\")\n",
    "print(ingredients)\n",
    "print(directions)"
   ]
  },
  {
   "cell_type": "code",
   "execution_count": 11,
   "id": "c53423db-077c-40d0-b492-f76bf77fb731",
   "metadata": {},
   "outputs": [
    {
     "name": "stdout",
     "output_type": "stream",
     "text": [
      "['1 cup uncooked long grain white rice', '2 cups water', '1 onion, diced', '1 tablespoon olive oil', '2 cups marinara sauce', '1 cup beef broth', '1 tablespoon balsamic vinegar', '1/4 teaspoon crushed red pepper flakes', '1 pound lean ground beef', '1/4 pound hot Italian pork sausage, casing removed', '1 (10 ounce) can diced tomatoes', '1/4 cup chopped fresh Italian parsley', '4 cloves garlic, minced', '2 teaspoons salt', '1 teaspoon freshly ground black pepper', '1 pinch ground cayenne pepper', '1 cup finely grated Parmigiano-Reggiano cheese, plus more for topping', '4 large green bell peppers, halved lengthwise and seeded']\n",
      "['Bring rice and water to a boil in a saucepan over high heat', 'Reduce heat to medium-low, cover, and simmer until the rice is tender, and the liquid has been absorbed, 20 to 25 minutes', 'Set the cooked rice aside', 'Meanwhile, preheat the oven to 375 degrees F (190 degrees C)', 'Make sauce: Cook onion and olive oil over medium heat until onion begins to soften, about 5 minutes', 'Transfer 1/2 of the cooked onion to a large bowl and set aside', 'Stir marinara sauce, beef broth, balsamic vinegar, and red pepper flakes into the skillet with cooked onion; cook and stir for 1 minute', 'Pour sauce mixture into a 9x13-inch baking dish and set aside', 'Combine ground beef, Italian sausage, diced tomatoes, Italian parsley, garlic, salt, black pepper, and cayenne pepper into the bowl with reserved onions; mix well', 'Stir in cooked rice and Parmigiano Reggiano', 'Stuff green bell peppers with beef and sausage mixture', 'Place stuffed green bell pepper halves in the baking dish over tomato sauce; sprinkle with remaining Parmigiano-Reggiano, cover baking dish with aluminum foil, and bake in the preheated oven for 45 minutes', 'Remove aluminum foil and bake until the meat is no longer pink, the green peppers are tender and the cheese is browned on top, an additional 20 to 25 minutes', 'You can use any color of bell pepper for this recipe depending on your preference', 'There are also different ways to cut the peppers, though we have found cutting them in half lengthwise makes them a bit easier to work with']\n"
     ]
    }
   ],
   "source": [
    "ingredients, directions = recipe_extract(\"https://www.allrecipes.com/recipe/222002/chef-johns-stuffed-peppers/\")\n",
    "print(ingredients)\n",
    "print(directions)"
   ]
  },
  {
   "cell_type": "code",
   "execution_count": 12,
   "id": "1722869e-c143-44e1-a209-9171d251a494",
   "metadata": {},
   "outputs": [
    {
     "name": "stdout",
     "output_type": "stream",
     "text": [
      "['1 1/2 pounds ground beef', '1 egg', '1 onion, chopped', '1 cup milk', '1 cup dried bread crumbs', 'salt and pepper to taste', '1/3 cup ketchup', '2 tablespoons brown sugar', '2 tablespoons prepared mustard']\n",
      "['Preheat the oven to 350 degrees F (175 degrees C)', 'Lightly grease a 9x5-inch loaf pan', 'Combine ground beef, onion, milk, bread crumbs and egg in a large bowl; season with salt and pepper', 'Transfer into prepared loaf pan', 'Mix ketchup, brown sugar, and mustard together in a small bowl until well combined; pour over meatloaf and spread it evenly over the top', 'Bake in the preheated oven until no longer pink in the center, about 1 hour', 'Crushed crackers may be used in place of bread crumbs, if preferred']\n"
     ]
    }
   ],
   "source": [
    "ingredients, directions = recipe_extract(\"https://www.allrecipes.com/recipe/16354/easy-meatloaf/\")\n",
    "print(ingredients)\n",
    "print(directions)"
   ]
  },
  {
   "cell_type": "code",
   "execution_count": 13,
   "id": "48e04d7a-b803-4400-ada6-04f31244e215",
   "metadata": {},
   "outputs": [
    {
     "name": "stdout",
     "output_type": "stream",
     "text": [
      "['3 large eggs', '1 tablespoon butter', '1/4 cup diced smoked ham', '2 tablespoons diced onion', '2 tablespoons diced green bell pepper', 'salt and freshly ground black pepper to taste', '1/3 cup shredded Cheddar cheese', '1 pinch cayenne pepper']\n",
      "['Beat eggs in a small bowl until just combined; do not overbeat', 'Melt butter in a skillet over medium-high heat', 'Add ham, onion, and bell pepper; season with salt and pepper', 'Cook and stir until onions soften and ham begins to caramelize, about 5 minutes', 'Reduce heat to medium-low and pour in eggs', 'Mix briefly with a spatula while shaking the pan to ensure ingredients are evenly distributed', 'Quickly run the spatula along edges of omelet', 'Sprinkle Cheddar cheese and cayenne pepper over omelet', 'Cook, shaking the pan occasionally, until top is still wet but not runny, about 5 minutes', 'Use a spatula to fold omelet in half and transfer it to a plate']\n"
     ]
    }
   ],
   "source": [
    "ingredients, directions = recipe_extract(\"https://www.allrecipes.com/recipe/263567/the-denver-omelet/\")\n",
    "print(ingredients)\n",
    "print(directions)"
   ]
  },
  {
   "cell_type": "code",
   "execution_count": 14,
   "id": "ea8b9b6d-12d9-4273-8b77-c75c557ab1be",
   "metadata": {},
   "outputs": [
    {
     "name": "stdout",
     "output_type": "stream",
     "text": [
      "['2 cups white sugar', '1 3/4 cups all-purpose flour', '3/4 cup unsweetened cocoa powder', '1 1/2 teaspoons baking powder', '1 1/2 teaspoons baking soda', '1 teaspoon salt', '2 eggs', '1 cup milk', '1/2 cup vegetable oil', '2 teaspoons vanilla extract', '1 cup boiling water']\n",
      "['Gather all ingredients', 'Preheat oven to 350 degrees F (175 degrees C)', 'Grease and flour two nine inch round pans', 'In a large bowl, stir together the sugar, flour, cocoa, baking powder, baking soda and salt', 'Add the eggs, milk, oil and vanilla, mix for 2 minutes on medium speed of mixer', 'Stir in the boiling water last', 'Batter will be thin', 'Pour evenly into the prepared pans', 'Bake 30 to 35 minutes in the preheated oven, until the cake tests done with a toothpick', 'Cool in the pans for 10 minutes, then remove to a wire rack to cool completely']\n"
     ]
    }
   ],
   "source": [
    "ingredients, directions = recipe_extract(\"https://www.allrecipes.com/recipe/17981/one-bowl-chocolate-cake-iii/\")\n",
    "print(ingredients)\n",
    "print(directions)"
   ]
  },
  {
   "cell_type": "code",
   "execution_count": 15,
   "id": "15ad4847-0721-4c2c-88a8-6c2d1771547f",
   "metadata": {},
   "outputs": [
    {
     "name": "stdout",
     "output_type": "stream",
     "text": [
      "['1/2 cup all-purpose flour', '1/4 teaspoon ground paprika', '1/4 teaspoon cayenne pepper', '1/4 teaspoon salt', '10 chicken wings', '2 cups vegetable oil for frying, or as needed', '1/4 cup butter', '1/4 cup hot sauce', '1 pinch ground black pepper', '1 pinch garlic powder']\n",
      "['Whisk together flour, paprika, cayenne pepper, and salt in a small bowl', 'Place chicken wings in a single layer in a 9x13-inch glass baking dish', 'Sprinkle flour mixture over top and toss until wings are evenly coated', 'Cover and refrigerate for 1 to 1 1/2 hours', 'Add about 1 inch oil to a deep, heavy skillet; heat to 375 degrees F (190 degrees C)', '(The oil should be just enough to cover wings entirely', ')', 'While the oil is coming to temperature, combine butter, hot sauce, pepper, and garlic powder in a small saucepan over low heat', 'Cook and stir until butter is melted and mixture is thoroughly blended', 'Remove from the heat and reserve for serving', 'Fry coated wings in the hot oil for 10 to 15 minutes, or until they begin to crisp and turn brown', 'Maintain the oil temperature while cooking', 'Remove wings from the oil and place on a paper towel-lined plate', 'Transfer wings to a platter and drizzle hot sauce over top; or mix wings and hot sauce in a bowl until coated', 'Serve', 'We have determined the nutritional value of oil for frying based on a retention value of 10% after cooking', 'The exact amount may vary depending on cook time and temperature, ingredient density, and the specific type of oil used']\n"
     ]
    }
   ],
   "source": [
    "ingredients, directions = recipe_extract(\"https://www.allrecipes.com/recipe/24087/restaurant-style-buffalo-chicken-wings/\")\n",
    "print(ingredients)\n",
    "print(directions)"
   ]
  }
 ],
 "metadata": {
  "kernelspec": {
   "display_name": "Python 3",
   "language": "python",
   "name": "python3"
  },
  "language_info": {
   "codemirror_mode": {
    "name": "ipython",
    "version": 3
   },
   "file_extension": ".py",
   "mimetype": "text/x-python",
   "name": "python",
   "nbconvert_exporter": "python",
   "pygments_lexer": "ipython3",
   "version": "3.8.8"
  }
 },
 "nbformat": 4,
 "nbformat_minor": 5
}
