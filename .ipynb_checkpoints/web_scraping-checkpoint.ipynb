{
 "cells": [
  {
   "cell_type": "code",
   "execution_count": 1,
   "id": "794920b6-1a3f-49a1-b2d4-fff068bb5a15",
   "metadata": {},
   "outputs": [],
   "source": [
    "# Importing necessary modules\n",
    "import requests\n",
    "from bs4 import BeautifulSoup\n",
    "import re"
   ]
  },
  {
   "cell_type": "code",
   "execution_count": 2,
   "id": "d8693e6a-8844-447c-b10f-7dc4bf93c2f9",
   "metadata": {},
   "outputs": [],
   "source": [
    "# Setting up notebook to display multiple outputs in one cell\n",
    "from IPython.core.interactiveshell import InteractiveShell\n",
    "InteractiveShell.ast_node_interactivity = \"all\""
   ]
  },
  {
   "cell_type": "code",
   "execution_count": 3,
   "id": "d5ff2904-c693-4ccc-acdd-1ad088cb0d44",
   "metadata": {},
   "outputs": [],
   "source": [
    "# Defining a function to extract the ingredients and directions from an online recipe\n",
    "def recipe_extract(URL):\n",
    "    # Getting HTML of selected recipe\n",
    "    webpage = requests.get(URL)\n",
    "    recipe_html = BeautifulSoup(webpage.content, \"html.parser\")\n",
    "    if \"foodnetwork\" in URL:\n",
    "        # Extracting the ingredients and storing in list\n",
    "        ingredients_text = recipe_html.find(\"div\", class_ = \"o-Ingredients__m-Body\")\n",
    "        ingredients = ingredients_text.find_all(\"span\", class_ = \"o-Ingredients__a-Ingredient--CheckboxLabel\")\n",
    "        ingredients_list = []\n",
    "        for ingredient in ingredients:\n",
    "            ingredient = str(ingredient)\n",
    "            ingredient = re.sub('<span class=\"o-Ingredients__a-Ingredient--CheckboxLabel\">|</span>|Deselect All', \"\", ingredient)\n",
    "            if ingredient:\n",
    "                ingredients_list.append(ingredient)\n",
    "        # Extracting directions and storing in list\n",
    "        directions_text = recipe_html.find(\"div\", class_ = \"o-Method__m-Body\")\n",
    "        directions_list = []\n",
    "        for direction in directions_text:\n",
    "            direction = str(direction)\n",
    "            direction = re.sub('<ol>|<li class=\"o-Method__m-Step\">|</li>|</ol>|\\n|  ', \"\", direction)\n",
    "            direction = direction.strip().split(\".\")\n",
    "            if len(direction) > 1:\n",
    "                for d in direction:\n",
    "                    directions_list.append(d.strip())\n",
    "        while(\"\" in directions_list):\n",
    "            directions_list.remove(\"\")\n",
    "    elif \"allrecipes\" in URL:\n",
    "        # Extracting the ingredients and storing in list\n",
    "        ingredients_text = recipe_html.find_all(\"li\", class_ = \"mntl-structured-ingredients__list-item\")\n",
    "        ingredients_list = []\n",
    "        for ingredient in ingredients_text:\n",
    "            ingredient = str(ingredient)\n",
    "            ingredient = re.sub('<li class=\"mntl-structured-ingredients__list-item\".*\\n<p>|<span data-ingredient-quantity=\"true\">|</span>|<span data-ingredient-unit=\"true\">|<span data-ingredient-name=\"true\">|</p>|\\n|</li>', \"\", ingredient)\n",
    "            if ingredient:\n",
    "                ingredients_list.append(ingredient)\n",
    "        # Extracting directions and storing in list\n",
    "        directions_text = recipe_html.find_all(\"p\", class_ = \"comp mntl-sc-block mntl-sc-block-html\")\n",
    "        directions_list = []\n",
    "        for direction in directions_text:\n",
    "            direction = str(direction)\n",
    "            direction = re.sub('<p class=\"comp mntl-sc-block mntl-sc-block-html\".*>|</p>', \"\", direction)    \n",
    "            direction = direction.strip().split(\".\")\n",
    "            if len(direction) > 1:\n",
    "                for d in direction:\n",
    "                    directions_list.append(d.strip())\n",
    "        while(\"\" in directions_list):\n",
    "            directions_list.remove(\"\")        \n",
    "    return (ingredients_list, directions_list)"
   ]
  },
  {
   "cell_type": "code",
   "execution_count": 4,
   "id": "d8bf82c2-bc74-4d5d-85b0-11ae49b34b2e",
   "metadata": {},
   "outputs": [
    {
     "name": "stdout",
     "output_type": "stream",
     "text": [
      "['2 medium carrots, cut into chunks', '2 stalks celery, cut into chunks', '1 large shallot, cut into chunks', '1 1/2 tablespoons olive oil', '1/2 pound lean ground beef', '2 tablespoons plus 4 teaspoons tomato paste', '1/3 cup chopped fresh parsley, dill or a combination', '1/3 cup golden raisins', '2 tablespoons red wine vinegar', 'Kosher salt', '4 red, yellow, orange or green bell peppers or a mix of colors, halved lengthwise and seeded', '1/2 cup whole wheat couscous', '3/4 cup grated asiago cheese']\n",
      "['Preheat the oven to 450 degrees F', 'Pulse the carrots, celery and shallots in a food processor until coarsely chopped', 'Heat 1 tablespoon of the olive oil in a large nonstick skillet over medium high', 'Add the chopped vegetables and cook, stirring frequently, until light golden and soft, 8 to 10 minutes', '(Add a splash of water if the mixture begins to stick', ') Add the ground beef and 4 teaspoons of the tomato paste and cook, breaking the mixture up with a wooden spoon, until browned, about 4 minutes', 'Add 1/2 cup water, the parsley, raisins, 1 tablespoon of the vinegar and 3/4 teaspoon salt', 'Bring to a simmer and cook until most of the water is absorbed and the mixture gets saucy, about 1 minute', 'Let cool slightly', 'Meanwhile, toss the pepper halves with the remaining 1/2 tablespoon oil in a microwave-safe bowl', 'Cover with plastic wrap and microwave until the peppers are pliable, 10 to 12 minutes', 'Carefully uncover the bowl and pour out any liquid that has accumulated', 'Stir the couscous into the beef mixture', 'Whisk together the remaining 2 tablespoons tomato paste, 1 tablespoon vinegar and 3/4 cup water in the bottom of a large baking dish', 'Carefully transfer the peppers to the baking dish cut-side up and fill each pepper with the couscous mixture', 'Sprinkle with the cheese', 'Cover with foil and bake until the peppers are tender and the stuffing is hot, 20 to 25 minutes', 'Serve warm or at room temperature drizzled with the tomato cooking liquid']\n"
     ]
    }
   ],
   "source": [
    "ingredients, directions = recipe_extract(\"https://www.foodnetwork.com/recipes/food-network-kitchen/sweet-and-sour-couscous-stuffed-peppers-recipe-2121036\")\n",
    "print(ingredients)\n",
    "print(directions)"
   ]
  },
  {
   "cell_type": "code",
   "execution_count": 5,
   "id": "c53423db-077c-40d0-b492-f76bf77fb731",
   "metadata": {},
   "outputs": [
    {
     "name": "stdout",
     "output_type": "stream",
     "text": [
      "['1 cup uncooked long grain white rice', '2 cups water', '1  onion, diced', '1 tablespoon olive oil', '2 cups marinara sauce', '1 cup beef broth', '1 tablespoon balsamic vinegar', '¼ teaspoon crushed red pepper flakes', '1 pound lean ground beef', '¼ pound hot Italian pork sausage, casing removed', '1 (10 ounce) can diced tomatoes', '¼ cup chopped fresh Italian parsley', '4 cloves garlic, minced', '2 teaspoons salt', '1 teaspoon freshly ground black pepper', '1 pinch ground cayenne pepper', '1 cup finely grated Parmigiano-Reggiano cheese, plus more for topping', '4 large green bell peppers, halved lengthwise and seeded']\n",
      "['Bring rice and water to a boil in a saucepan over high heat', 'Reduce heat to medium-low, cover, and simmer until the rice is tender, and the liquid has been absorbed, 20 to 25 minutes', 'Set the cooked rice aside', 'Meanwhile, preheat the oven to 375 degrees F (190 degrees C)', 'Make sauce: Cook onion and olive oil over medium heat until onion begins to soften, about 5 minutes', 'Transfer 1/2 of the cooked onion to a large bowl and set aside', 'Stir marinara sauce, beef broth, balsamic vinegar, and red pepper flakes into the skillet with cooked onion; cook and stir for 1 minute', 'Pour sauce mixture into a 9x13-inch baking dish and set aside', 'Combine ground beef, Italian sausage, diced tomatoes, Italian parsley, garlic, salt, black pepper, and cayenne pepper into the bowl with reserved onions; mix well', 'Stir in cooked rice and Parmigiano Reggiano', 'Stuff green bell peppers with beef and sausage mixture', 'Place stuffed green bell pepper halves in the baking dish over tomato sauce; sprinkle with remaining Parmigiano-Reggiano, cover baking dish with aluminum foil, and bake in the preheated oven for 45 minutes', 'Remove aluminum foil and bake until the meat is no longer pink, the green peppers are tender and the cheese is browned on top, an additional 20 to 25 minutes', 'You can use any color of bell pepper for this recipe depending on your preference', 'There are also different ways to cut the peppers, though we have found cutting them in half lengthwise makes them a bit easier to work with']\n"
     ]
    }
   ],
   "source": [
    "ingredients, directions = recipe_extract(\"https://www.allrecipes.com/recipe/222002/chef-johns-stuffed-peppers/\")\n",
    "print(ingredients)\n",
    "print(directions)"
   ]
  },
  {
   "cell_type": "code",
   "execution_count": null,
   "id": "6e93df9d-10ab-4328-8206-b42165ab7c61",
   "metadata": {},
   "outputs": [],
   "source": []
  }
 ],
 "metadata": {
  "kernelspec": {
   "display_name": "Python 3",
   "language": "python",
   "name": "python3"
  },
  "language_info": {
   "codemirror_mode": {
    "name": "ipython",
    "version": 3
   },
   "file_extension": ".py",
   "mimetype": "text/x-python",
   "name": "python",
   "nbconvert_exporter": "python",
   "pygments_lexer": "ipython3",
   "version": "3.8.8"
  }
 },
 "nbformat": 4,
 "nbformat_minor": 5
}
