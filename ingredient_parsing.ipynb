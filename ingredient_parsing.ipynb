{
 "cells": [
  {
   "cell_type": "code",
   "execution_count": 1,
   "id": "c6b45fc8-780f-4fb3-952c-d5858ae9fd1d",
   "metadata": {},
   "outputs": [],
   "source": [
    "import requests\n",
    "from bs4 import BeautifulSoup\n",
    "import re\n",
    "from collections import Counter\n",
    "import spacy\n",
    "import unicodedata\n",
    "nlp = spacy.load(\"en_core_web_sm\")"
   ]
  },
  {
   "cell_type": "code",
   "execution_count": 2,
   "id": "39e161c4-7b4d-410a-bfd6-181509d364b8",
   "metadata": {},
   "outputs": [],
   "source": [
    "# Setting up notebook to display multiple outputs in one cell\n",
    "from IPython.core.interactiveshell import InteractiveShell\n",
    "InteractiveShell.ast_node_interactivity = \"all\""
   ]
  },
  {
   "cell_type": "code",
   "execution_count": 3,
   "id": "fab30f01-bf63-4dda-962c-2a69c1f36c60",
   "metadata": {},
   "outputs": [
    {
     "ename": "IndentationError",
     "evalue": "expected an indented block (1290831800.py, line 37)",
     "output_type": "error",
     "traceback": [
      "\u001b[0;36m  File \u001b[0;32m\"/var/folders/42/1tm0lh9x4mq_b_x54vd3y4700000gn/T/ipykernel_85095/1290831800.py\"\u001b[0;36m, line \u001b[0;32m37\u001b[0m\n\u001b[0;31m    amount = \"\"\u001b[0m\n\u001b[0m    ^\u001b[0m\n\u001b[0;31mIndentationError\u001b[0m\u001b[0;31m:\u001b[0m expected an indented block\n"
     ]
    }
   ],
   "source": [
    "#define ingredient class for use with other procedures\n",
    "class Ingredient:\n",
    "    #parses raw text: THE CORE IMPORTANT THING HERE!    \n",
    "    def parse_ingredient(self, text):\n",
    "        text = re.sub(\"⁄\", \"/\", unicodedata.normalize(\"NFKC\", text))\n",
    "        #parse = nlp(text)\n",
    "        #print([token.dep_ for token in parse])\n",
    "        #(fix me!)\n",
    "        extra_info = \"\"\n",
    "        info_re = re.search(\"\\(.*\\)\", text)\n",
    "        if info_re:\n",
    "            #there's extra information in the text\n",
    "            extra_info = info_re.group()\n",
    "            re.sub(\"\\(.*\\)\", \"\", text)\n",
    "        #start with extra preparation because it's easiest: assume everything after comma is additional prep\n",
    "        prep = \"\"\n",
    "        if \",\" in text:\n",
    "            phrase_list = text.split(\",\")\n",
    "            for i in range(len(phrase_list)):\n",
    "                phrase_parse = nlp(phrase_list[i].lstrip())\n",
    "                if i == 0:\n",
    "                    last_pos = phrase_parse[-1].pos_\n",
    "                elif phrase_parse[0].pos_ != last_pos:\n",
    "                    #identify phrase as start of preparation\n",
    "                    print(\"I think \" + phrase_parse[0].pos_ + \" is different from \" + last_pos)\n",
    "                    prep = \",\".join(phrase_list[i:]).lstrip()\n",
    "                    text = \",\".join(phrase_list[:i])\n",
    "                    print(text)\n",
    "                    break\n",
    "                else:\n",
    "                    last_pos = phrase_parse[-1].pos_\n",
    "        amount = \"\"\n",
    "        if text[0].pos_ == \"NUM\":\n",
    "            #there's an amount listed\n",
    "            amount = text[0].text\n",
    "            for i in range(len(text)):\n",
    "                \n",
    "        name = \"\"\n",
    "        \n",
    "        return (amount, name, prep, extra_info)\n",
    "    \n",
    "    def get_amount(self):\n",
    "        return self.amount\n",
    "    \n",
    "    \n",
    "    def get_name(self):\n",
    "        return self.name\n",
    "    \n",
    "    def get_prep(self):\n",
    "        return self.prep\n",
    "    \n",
    "    def get_extra(self):\n",
    "        return self.extra\n",
    "    \n",
    "    def get_text(self):\n",
    "        return self.text\n",
    "    \n",
    "\n",
    "    def __init__(self, text):\n",
    "        self.text = text\n",
    "        self.amount, self.name, self.prep, self.extra = self.parse_ingredient(text)\n",
    "        \n",
    "    "
   ]
  },
  {
   "cell_type": "code",
   "execution_count": null,
   "id": "45f1e3f2-41f9-4f9b-9173-8305eaa0f5fc",
   "metadata": {},
   "outputs": [],
   "source": [
    "#take in raw text\n",
    "def parse_ingredient_list(ingredients):\n",
    "    return list(map(lambda t: Ingredient(t), ingredients))"
   ]
  },
  {
   "cell_type": "code",
   "execution_count": null,
   "id": "ad73c7d3-b8f6-4241-94c0-a97805dce786",
   "metadata": {},
   "outputs": [],
   "source": [
    "list(map(lambda i: str(i.get_amount() + \" \" + i.get_name() + \" \" + i.get_prep()+ \" \" + i.get_extra()),\n",
    "    parse_ingredient_list(['1 cup uncooked long grain white rice', \n",
    "                           '2 cups water', '1 onion, diced', '1 tablespoon olive oil', \n",
    "                           '2 cups marinara sauce', '1 cup beef broth', '1 tablespoon balsamic vinegar', \n",
    "                           '¼ teaspoon crushed red pepper flakes', '1 pound lean ground beef', \n",
    "                           '¼ pound hot Italian pork sausage, casing removed', '1 (10 ounce) can diced tomatoes', \n",
    "                           '¼ cup chopped fresh Italian parsley', '4 cloves garlic, minced', '2 teaspoons salt', \n",
    "                           '1 teaspoon freshly ground black pepper', '1 pinch ground cayenne pepper', \n",
    "                           '1 cup finely grated Parmigiano-Reggiano cheese, plus more for topping', \n",
    "                           '4 large green bell peppers, halved lengthwise and seeded',\n",
    "                           '4 red, yellow, orange or green bell peppers or a mix of colors, halved lengthwise and seeded',\n",
    "                           '1/3 cup chopped fresh parsley, dill or a combination'])))"
   ]
  },
  {
   "cell_type": "code",
   "execution_count": 27,
   "id": "6d655a77-c396-4599-9d30-6154b394dcf3",
   "metadata": {},
   "outputs": [
    {
     "data": {
      "text/html": [
       "<span class=\"tex2jax_ignore\"><svg xmlns=\"http://www.w3.org/2000/svg\" xmlns:xlink=\"http://www.w3.org/1999/xlink\" xml:lang=\"en\" id=\"709967147fe948c9ac5ccc0c5b06a48e-0\" class=\"displacy\" width=\"1100\" height=\"399.5\" direction=\"ltr\" style=\"max-width: none; height: 399.5px; color: #000000; background: #ffffff; font-family: Arial; direction: ltr\">\n",
       "<text class=\"displacy-token\" fill=\"currentColor\" text-anchor=\"middle\" y=\"309.5\">\n",
       "    <tspan class=\"displacy-word\" fill=\"currentColor\" x=\"50\">4</tspan>\n",
       "    <tspan class=\"displacy-tag\" dy=\"2em\" fill=\"currentColor\" x=\"50\">NUM</tspan>\n",
       "</text>\n",
       "\n",
       "<text class=\"displacy-token\" fill=\"currentColor\" text-anchor=\"middle\" y=\"309.5\">\n",
       "    <tspan class=\"displacy-word\" fill=\"currentColor\" x=\"225\">tbs</tspan>\n",
       "    <tspan class=\"displacy-tag\" dy=\"2em\" fill=\"currentColor\" x=\"225\">ADJ</tspan>\n",
       "</text>\n",
       "\n",
       "<text class=\"displacy-token\" fill=\"currentColor\" text-anchor=\"middle\" y=\"309.5\">\n",
       "    <tspan class=\"displacy-word\" fill=\"currentColor\" x=\"400\">plus</tspan>\n",
       "    <tspan class=\"displacy-tag\" dy=\"2em\" fill=\"currentColor\" x=\"400\">CCONJ</tspan>\n",
       "</text>\n",
       "\n",
       "<text class=\"displacy-token\" fill=\"currentColor\" text-anchor=\"middle\" y=\"309.5\">\n",
       "    <tspan class=\"displacy-word\" fill=\"currentColor\" x=\"575\">a</tspan>\n",
       "    <tspan class=\"displacy-tag\" dy=\"2em\" fill=\"currentColor\" x=\"575\">DET</tspan>\n",
       "</text>\n",
       "\n",
       "<text class=\"displacy-token\" fill=\"currentColor\" text-anchor=\"middle\" y=\"309.5\">\n",
       "    <tspan class=\"displacy-word\" fill=\"currentColor\" x=\"750\">pinch</tspan>\n",
       "    <tspan class=\"displacy-tag\" dy=\"2em\" fill=\"currentColor\" x=\"750\">NOUN</tspan>\n",
       "</text>\n",
       "\n",
       "<text class=\"displacy-token\" fill=\"currentColor\" text-anchor=\"middle\" y=\"309.5\">\n",
       "    <tspan class=\"displacy-word\" fill=\"currentColor\" x=\"925\">milk</tspan>\n",
       "    <tspan class=\"displacy-tag\" dy=\"2em\" fill=\"currentColor\" x=\"925\">NOUN</tspan>\n",
       "</text>\n",
       "\n",
       "<g class=\"displacy-arrow\">\n",
       "    <path class=\"displacy-arc\" id=\"arrow-709967147fe948c9ac5ccc0c5b06a48e-0-0\" stroke-width=\"2px\" d=\"M70,264.5 C70,2.0 925.0,2.0 925.0,264.5\" fill=\"none\" stroke=\"currentColor\"/>\n",
       "    <text dy=\"1.25em\" style=\"font-size: 0.8em; letter-spacing: 1px\">\n",
       "        <textPath xlink:href=\"#arrow-709967147fe948c9ac5ccc0c5b06a48e-0-0\" class=\"displacy-label\" startOffset=\"50%\" side=\"left\" fill=\"currentColor\" text-anchor=\"middle\">nummod</textPath>\n",
       "    </text>\n",
       "    <path class=\"displacy-arrowhead\" d=\"M70,266.5 L62,254.5 78,254.5\" fill=\"currentColor\"/>\n",
       "</g>\n",
       "\n",
       "<g class=\"displacy-arrow\">\n",
       "    <path class=\"displacy-arc\" id=\"arrow-709967147fe948c9ac5ccc0c5b06a48e-0-1\" stroke-width=\"2px\" d=\"M70,264.5 C70,177.0 215.0,177.0 215.0,264.5\" fill=\"none\" stroke=\"currentColor\"/>\n",
       "    <text dy=\"1.25em\" style=\"font-size: 0.8em; letter-spacing: 1px\">\n",
       "        <textPath xlink:href=\"#arrow-709967147fe948c9ac5ccc0c5b06a48e-0-1\" class=\"displacy-label\" startOffset=\"50%\" side=\"left\" fill=\"currentColor\" text-anchor=\"middle\">amod</textPath>\n",
       "    </text>\n",
       "    <path class=\"displacy-arrowhead\" d=\"M215.0,266.5 L223.0,254.5 207.0,254.5\" fill=\"currentColor\"/>\n",
       "</g>\n",
       "\n",
       "<g class=\"displacy-arrow\">\n",
       "    <path class=\"displacy-arc\" id=\"arrow-709967147fe948c9ac5ccc0c5b06a48e-0-2\" stroke-width=\"2px\" d=\"M245,264.5 C245,177.0 390.0,177.0 390.0,264.5\" fill=\"none\" stroke=\"currentColor\"/>\n",
       "    <text dy=\"1.25em\" style=\"font-size: 0.8em; letter-spacing: 1px\">\n",
       "        <textPath xlink:href=\"#arrow-709967147fe948c9ac5ccc0c5b06a48e-0-2\" class=\"displacy-label\" startOffset=\"50%\" side=\"left\" fill=\"currentColor\" text-anchor=\"middle\">cc</textPath>\n",
       "    </text>\n",
       "    <path class=\"displacy-arrowhead\" d=\"M390.0,266.5 L398.0,254.5 382.0,254.5\" fill=\"currentColor\"/>\n",
       "</g>\n",
       "\n",
       "<g class=\"displacy-arrow\">\n",
       "    <path class=\"displacy-arc\" id=\"arrow-709967147fe948c9ac5ccc0c5b06a48e-0-3\" stroke-width=\"2px\" d=\"M595,264.5 C595,89.5 920.0,89.5 920.0,264.5\" fill=\"none\" stroke=\"currentColor\"/>\n",
       "    <text dy=\"1.25em\" style=\"font-size: 0.8em; letter-spacing: 1px\">\n",
       "        <textPath xlink:href=\"#arrow-709967147fe948c9ac5ccc0c5b06a48e-0-3\" class=\"displacy-label\" startOffset=\"50%\" side=\"left\" fill=\"currentColor\" text-anchor=\"middle\">det</textPath>\n",
       "    </text>\n",
       "    <path class=\"displacy-arrowhead\" d=\"M595,266.5 L587,254.5 603,254.5\" fill=\"currentColor\"/>\n",
       "</g>\n",
       "\n",
       "<g class=\"displacy-arrow\">\n",
       "    <path class=\"displacy-arc\" id=\"arrow-709967147fe948c9ac5ccc0c5b06a48e-0-4\" stroke-width=\"2px\" d=\"M770,264.5 C770,177.0 915.0,177.0 915.0,264.5\" fill=\"none\" stroke=\"currentColor\"/>\n",
       "    <text dy=\"1.25em\" style=\"font-size: 0.8em; letter-spacing: 1px\">\n",
       "        <textPath xlink:href=\"#arrow-709967147fe948c9ac5ccc0c5b06a48e-0-4\" class=\"displacy-label\" startOffset=\"50%\" side=\"left\" fill=\"currentColor\" text-anchor=\"middle\">compound</textPath>\n",
       "    </text>\n",
       "    <path class=\"displacy-arrowhead\" d=\"M770,266.5 L762,254.5 778,254.5\" fill=\"currentColor\"/>\n",
       "</g>\n",
       "</svg></span>"
      ],
      "text/plain": [
       "<IPython.core.display.HTML object>"
      ]
     },
     "metadata": {},
     "output_type": "display_data"
    },
    {
     "name": "stdout",
     "output_type": "stream",
     "text": [
      "milk ROOT\n"
     ]
    }
   ],
   "source": [
    "from spacy import displacy\n",
    "\n",
    "doc = nlp(\"4 tbs plus a pinch milk\")\n",
    "displacy.render(doc, style=\"dep\")\n",
    "#print(doc[-1].lemma_)\n",
    "for pot_mw in doc[0].ancestors:\n",
    "    print(pot_mw.text + \" \" + str(pot_mw.dep_))\n",
    "    \n",
    "# doc2 = nlp(\"10 turnips, greens trimmed\")\n",
    "# displacy.render(doc2, style=\"dep\")\n",
    "\n",
    "# doc3 = nlp(\"Preheat the oven to 450 and grease a large 9x13 baking pan.\")\n",
    "# displacy.render(doc3, style=\"dep\")\n",
    "\n",
    "# doc4 = nlp(\"If your oven runs hot, use a meat thermometer to verify when the chicken is cooked.\")\n",
    "# displacy.render(doc4, style=\"dep\")\n"
   ]
  },
  {
   "cell_type": "code",
   "execution_count": null,
   "id": "b8feeec6-65ea-45c8-93fe-ee6b50b34476",
   "metadata": {},
   "outputs": [],
   "source": []
  }
 ],
 "metadata": {
  "kernelspec": {
   "display_name": "Python 3 (ipykernel)",
   "language": "python",
   "name": "python3"
  },
  "language_info": {
   "codemirror_mode": {
    "name": "ipython",
    "version": 3
   },
   "file_extension": ".py",
   "mimetype": "text/x-python",
   "name": "python",
   "nbconvert_exporter": "python",
   "pygments_lexer": "ipython3",
   "version": "3.9.7"
  }
 },
 "nbformat": 4,
 "nbformat_minor": 5
}
