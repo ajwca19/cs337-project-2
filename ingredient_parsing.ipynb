{
 "cells": [
  {
   "cell_type": "code",
   "execution_count": 50,
   "id": "c6b45fc8-780f-4fb3-952c-d5858ae9fd1d",
   "metadata": {},
   "outputs": [],
   "source": [
    "import requests\n",
    "from bs4 import BeautifulSoup\n",
    "import re\n",
    "from collections import Counter\n",
    "import spacy\n",
    "nlp = spacy.load(\"en_core_web_sm\")"
   ]
  },
  {
   "cell_type": "code",
   "execution_count": 51,
   "id": "39e161c4-7b4d-410a-bfd6-181509d364b8",
   "metadata": {},
   "outputs": [],
   "source": [
    "# Setting up notebook to display multiple outputs in one cell\n",
    "from IPython.core.interactiveshell import InteractiveShell\n",
    "InteractiveShell.ast_node_interactivity = \"all\""
   ]
  },
  {
   "cell_type": "code",
   "execution_count": 52,
   "id": "fab30f01-bf63-4dda-962c-2a69c1f36c60",
   "metadata": {},
   "outputs": [
    {
     "ename": "SyntaxError",
     "evalue": "invalid syntax (2326075229.py, line 16)",
     "output_type": "error",
     "traceback": [
      "\u001b[0;36m  File \u001b[0;32m\"/var/folders/42/1tm0lh9x4mq_b_x54vd3y4700000gn/T/ipykernel_69757/2326075229.py\"\u001b[0;36m, line \u001b[0;32m16\u001b[0m\n\u001b[0;31m    phrase_list =\u001b[0m\n\u001b[0m                  ^\u001b[0m\n\u001b[0;31mSyntaxError\u001b[0m\u001b[0;31m:\u001b[0m invalid syntax\n"
     ]
    }
   ],
   "source": [
    "#define ingredient class for use with other procedures\n",
    "class Ingredient:\n",
    "    #parses raw text: THE CORE IMPORTANT THING HERE!    \n",
    "    def parse_ingredient(self, text):\n",
    "        #parse = nlp(text)\n",
    "        #print([token.dep_ for token in parse])\n",
    "        #(fix me!)\n",
    "        extra_info = \"\"\n",
    "        info_re = re.search(\"\\(.*\\)\", text)\n",
    "        if info_re:\n",
    "            #there's extra information in the text\n",
    "            extra_info = info_re.group()\n",
    "            re.sub(\"\\(.*\\)\", \"\", text)\n",
    "        #start with extra preparation because it's easiest: assume everything after comma is additional prep\n",
    "        if \",\" in text:\n",
    "            phrase_list = \n",
    "            prep = \"\"\n",
    "        amount = \"\"\n",
    "        qualifier = \"\"\n",
    "        name = \"\"\n",
    "        \n",
    "        return (amount, qualifier, name, prep, extra_info)\n",
    "    \n",
    "    def get_amount(self):\n",
    "        return self.amount\n",
    "    \n",
    "    def get_qualifier(self):\n",
    "        return self.qualifier\n",
    "    \n",
    "    def get_name(self):\n",
    "        return self.name\n",
    "    \n",
    "    def get_prep(self):\n",
    "        return self.prep\n",
    "    \n",
    "    def get_extra(self):\n",
    "        return self.extra\n",
    "    \n",
    "    def get_text(self):\n",
    "        return self.text\n",
    "    \n",
    "    def __init__(self, text):\n",
    "        self.text = text\n",
    "        self.amount, self.qualifier, self.name, self.prep, self.extra = self.parse_ingredient(text)\n",
    "        \n",
    "    "
   ]
  },
  {
   "cell_type": "code",
   "execution_count": 53,
   "id": "45f1e3f2-41f9-4f9b-9173-8305eaa0f5fc",
   "metadata": {},
   "outputs": [],
   "source": [
    "#take in raw text\n",
    "def parse_ingredient_list(ingredients):\n",
    "    return list(map(lambda t: Ingredient(t), ingredients))"
   ]
  },
  {
   "cell_type": "code",
   "execution_count": 54,
   "id": "ad73c7d3-b8f6-4241-94c0-a97805dce786",
   "metadata": {},
   "outputs": [
    {
     "name": "stdout",
     "output_type": "stream",
     "text": [
      "['nummod', 'nsubj', 'ROOT', 'amod', 'compound', 'compound', 'dobj']\n",
      "['nummod', 'compound', 'ROOT']\n",
      "['nummod', 'ROOT', 'punct', 'acl']\n",
      "['nummod', 'compound', 'compound', 'ROOT']\n",
      "['nummod', 'nsubj', 'nsubj', 'ROOT']\n",
      "['nummod', 'compound', 'compound', 'ROOT']\n",
      "['nummod', 'compound', 'amod', 'ROOT']\n",
      "['compound', 'nsubj', 'ROOT', 'amod', 'compound', 'dobj']\n",
      "['nummod', 'npadvmod', 'amod', 'compound', 'ROOT']\n",
      "['nmod', 'nmod', 'amod', 'amod', 'compound', 'ROOT', 'punct', 'nsubj', 'acl']\n",
      "['nsubj', 'punct', 'nummod', 'npadvmod', 'punct', 'aux', 'ROOT', 'dobj']\n",
      "['compound', 'nsubj', 'ROOT', 'amod', 'amod', 'dobj']\n",
      "['nummod', 'compound', 'ROOT', 'punct', 'acl']\n",
      "['nummod', 'compound', 'ROOT']\n",
      "['nummod', 'nsubj', 'advmod', 'ROOT', 'amod', 'dobj']\n",
      "['nummod', 'compound', 'compound', 'compound', 'ROOT']\n",
      "['nummod', 'nsubj', 'advmod', 'ROOT', 'compound', 'punct', 'compound', 'dobj', 'punct', 'cc', 'advmod', 'prep', 'pcomp']\n",
      "['nummod', 'amod', 'amod', 'compound', 'ROOT', 'punct', 'amod', 'appos', 'cc', 'conj']\n"
     ]
    },
    {
     "ename": "AttributeError",
     "evalue": "'Ingredient' object has no attribute 'get_extra'",
     "output_type": "error",
     "traceback": [
      "\u001b[0;31m---------------------------------------------------------------------------\u001b[0m",
      "\u001b[0;31mAttributeError\u001b[0m                            Traceback (most recent call last)",
      "\u001b[0;32m/var/folders/42/1tm0lh9x4mq_b_x54vd3y4700000gn/T/ipykernel_69757/2298659774.py\u001b[0m in \u001b[0;36m<module>\u001b[0;34m\u001b[0m\n\u001b[0;32m----> 1\u001b[0;31m list(map(lambda i: i.get_extra(),\n\u001b[0m\u001b[1;32m      2\u001b[0m     parse_ingredient_list(['1 cup uncooked long grain white rice', \n\u001b[1;32m      3\u001b[0m                            \u001b[0;34m'2 cups water'\u001b[0m\u001b[0;34m,\u001b[0m \u001b[0;34m'1 onion, diced'\u001b[0m\u001b[0;34m,\u001b[0m \u001b[0;34m'1 tablespoon olive oil'\u001b[0m\u001b[0;34m,\u001b[0m\u001b[0;34m\u001b[0m\u001b[0;34m\u001b[0m\u001b[0m\n\u001b[1;32m      4\u001b[0m                            \u001b[0;34m'2 cups marinara sauce'\u001b[0m\u001b[0;34m,\u001b[0m \u001b[0;34m'1 cup beef broth'\u001b[0m\u001b[0;34m,\u001b[0m \u001b[0;34m'1 tablespoon balsamic vinegar'\u001b[0m\u001b[0;34m,\u001b[0m\u001b[0;34m\u001b[0m\u001b[0;34m\u001b[0m\u001b[0m\n\u001b[1;32m      5\u001b[0m                            \u001b[0;34m'¼ teaspoon crushed red pepper flakes'\u001b[0m\u001b[0;34m,\u001b[0m \u001b[0;34m'1 pound lean ground beef'\u001b[0m\u001b[0;34m,\u001b[0m\u001b[0;34m\u001b[0m\u001b[0;34m\u001b[0m\u001b[0m\n",
      "\u001b[0;32m/var/folders/42/1tm0lh9x4mq_b_x54vd3y4700000gn/T/ipykernel_69757/2298659774.py\u001b[0m in \u001b[0;36m<lambda>\u001b[0;34m(i)\u001b[0m\n\u001b[0;32m----> 1\u001b[0;31m list(map(lambda i: i.get_extra(),\n\u001b[0m\u001b[1;32m      2\u001b[0m     parse_ingredient_list(['1 cup uncooked long grain white rice', \n\u001b[1;32m      3\u001b[0m                            \u001b[0;34m'2 cups water'\u001b[0m\u001b[0;34m,\u001b[0m \u001b[0;34m'1 onion, diced'\u001b[0m\u001b[0;34m,\u001b[0m \u001b[0;34m'1 tablespoon olive oil'\u001b[0m\u001b[0;34m,\u001b[0m\u001b[0;34m\u001b[0m\u001b[0;34m\u001b[0m\u001b[0m\n\u001b[1;32m      4\u001b[0m                            \u001b[0;34m'2 cups marinara sauce'\u001b[0m\u001b[0;34m,\u001b[0m \u001b[0;34m'1 cup beef broth'\u001b[0m\u001b[0;34m,\u001b[0m \u001b[0;34m'1 tablespoon balsamic vinegar'\u001b[0m\u001b[0;34m,\u001b[0m\u001b[0;34m\u001b[0m\u001b[0;34m\u001b[0m\u001b[0m\n\u001b[1;32m      5\u001b[0m                            \u001b[0;34m'¼ teaspoon crushed red pepper flakes'\u001b[0m\u001b[0;34m,\u001b[0m \u001b[0;34m'1 pound lean ground beef'\u001b[0m\u001b[0;34m,\u001b[0m\u001b[0;34m\u001b[0m\u001b[0;34m\u001b[0m\u001b[0m\n",
      "\u001b[0;31mAttributeError\u001b[0m: 'Ingredient' object has no attribute 'get_extra'"
     ]
    }
   ],
   "source": [
    "list(map(lambda i: i.get_extra(),\n",
    "    parse_ingredient_list(['1 cup uncooked long grain white rice', \n",
    "                           '2 cups water', '1 onion, diced', '1 tablespoon olive oil', \n",
    "                           '2 cups marinara sauce', '1 cup beef broth', '1 tablespoon balsamic vinegar', \n",
    "                           '¼ teaspoon crushed red pepper flakes', '1 pound lean ground beef', \n",
    "                           '¼ pound hot Italian pork sausage, casing removed', '1 (10 ounce) can diced tomatoes', \n",
    "                           '¼ cup chopped fresh Italian parsley', '4 cloves garlic, minced', '2 teaspoons salt', \n",
    "                           '1 teaspoon freshly ground black pepper', '1 pinch ground cayenne pepper', \n",
    "                           '1 cup finely grated Parmigiano-Reggiano cheese, plus more for topping', \n",
    "                           '4 large green bell peppers, halved lengthwise and seeded'])))"
   ]
  },
  {
   "cell_type": "code",
   "execution_count": 55,
   "id": "7a21b447-5e26-411c-a225-96a5775df302",
   "metadata": {},
   "outputs": [
    {
     "name": "stdout",
     "output_type": "stream",
     "text": [
      "['nsubj', 'punct', 'nummod', 'npadvmod', 'punct', 'aux', 'ROOT', 'dobj']\n"
     ]
    },
    {
     "ename": "AttributeError",
     "evalue": "'Ingredient' object has no attribute 'get_extra'",
     "output_type": "error",
     "traceback": [
      "\u001b[0;31m---------------------------------------------------------------------------\u001b[0m",
      "\u001b[0;31mAttributeError\u001b[0m                            Traceback (most recent call last)",
      "\u001b[0;32m/var/folders/42/1tm0lh9x4mq_b_x54vd3y4700000gn/T/ipykernel_69757/1135566079.py\u001b[0m in \u001b[0;36m<module>\u001b[0;34m\u001b[0m\n\u001b[1;32m      1\u001b[0m \u001b[0mtomatoes\u001b[0m \u001b[0;34m=\u001b[0m \u001b[0mIngredient\u001b[0m\u001b[0;34m(\u001b[0m\u001b[0;34m'1 (10 ounce) can diced tomatoes'\u001b[0m\u001b[0;34m)\u001b[0m\u001b[0;34m\u001b[0m\u001b[0;34m\u001b[0m\u001b[0m\n\u001b[0;32m----> 2\u001b[0;31m \u001b[0mtomatoes\u001b[0m\u001b[0;34m.\u001b[0m\u001b[0mget_extra\u001b[0m\u001b[0;34m(\u001b[0m\u001b[0;34m)\u001b[0m\u001b[0;34m\u001b[0m\u001b[0;34m\u001b[0m\u001b[0m\n\u001b[0m",
      "\u001b[0;31mAttributeError\u001b[0m: 'Ingredient' object has no attribute 'get_extra'"
     ]
    }
   ],
   "source": [
    "tomatoes = Ingredient('1 (10 ounce) can diced tomatoes')\n",
    "tomatoes.get_extra()"
   ]
  },
  {
   "cell_type": "code",
   "execution_count": null,
   "id": "09fc93ad-770e-4261-aacf-f74931b077ed",
   "metadata": {},
   "outputs": [],
   "source": []
  }
 ],
 "metadata": {
  "kernelspec": {
   "display_name": "Python 3 (ipykernel)",
   "language": "python",
   "name": "python3"
  },
  "language_info": {
   "codemirror_mode": {
    "name": "ipython",
    "version": 3
   },
   "file_extension": ".py",
   "mimetype": "text/x-python",
   "name": "python",
   "nbconvert_exporter": "python",
   "pygments_lexer": "ipython3",
   "version": "3.9.7"
  }
 },
 "nbformat": 4,
 "nbformat_minor": 5
}
